{
 "cells": [
  {
   "attachments": {},
   "cell_type": "markdown",
   "metadata": {},
   "source": [
    "## Task 1: Importing Libraries"
   ]
  },
  {
   "cell_type": "code",
   "execution_count": 1,
   "metadata": {
    "_cell_guid": "b1076dfc-b9ad-4769-8c92-a6c4dae69d19",
    "_uuid": "8f2839f25d086af736a60e9eeb907d3b93b6e0e5",
    "execution": {
     "iopub.execute_input": "2023-05-30T13:33:01.649919Z",
     "iopub.status.busy": "2023-05-30T13:33:01.649256Z",
     "iopub.status.idle": "2023-05-30T13:33:08.131449Z",
     "shell.execute_reply": "2023-05-30T13:33:08.130426Z",
     "shell.execute_reply.started": "2023-05-30T13:33:01.649856Z"
    }
   },
   "outputs": [
    {
     "name": "stdout",
     "output_type": "stream",
     "text": [
      "Python version: 3.9.5\n",
      "Numpy version: 1.23.3\n",
      "Seaborn version: 0.12.2\n",
      "tensorflow version:  2.12.0\n",
      "keras version: 2.12.0\n"
     ]
    }
   ],
   "source": [
    "import keras\n",
    "import os\n",
    "import shutil\n",
    "import numpy as np\n",
    "import math\n",
    "import random\n",
    "import matplotlib.pyplot as plt\n",
    "import seaborn as sns\n",
    "sns.set()\n",
    "from platform import python_version\n",
    "\n",
    "print('Python version:', python_version())\n",
    "print('Numpy version:', np.__version__)\n",
    "print('Seaborn version:', sns.__version__)\n",
    "from distutils.dir_util import copy_tree\n",
    "import tensorflow as tf\n",
    "print('tensorflow version: ',tf.__version__)\n",
    "print('keras version:', keras.__version__)"
   ]
  },
  {
   "cell_type": "code",
   "execution_count": 3,
   "metadata": {},
   "outputs": [
    {
     "name": "stdout",
     "output_type": "stream",
     "text": [
      "Collecting keras_preprocessing\n",
      "  Downloading Keras_Preprocessing-1.1.2-py2.py3-none-any.whl (42 kB)\n",
      "     -------------------------------------- 42.6/42.6 kB 513.3 kB/s eta 0:00:00\n",
      "Requirement already satisfied: numpy>=1.9.1 in c:\\python\\lib\\site-packages (from keras_preprocessing) (1.23.3)\n",
      "Requirement already satisfied: six>=1.9.0 in c:\\python\\lib\\site-packages (from keras_preprocessing) (1.16.0)\n",
      "Installing collected packages: keras_preprocessing\n",
      "Successfully installed keras_preprocessing-1.1.2\n",
      "Note: you may need to restart the kernel to use updated packages.\n"
     ]
    }
   ],
   "source": [
    "pip install keras_preprocessing"
   ]
  },
  {
   "cell_type": "code",
   "execution_count": 31,
   "metadata": {
    "_cell_guid": "79c7e3d0-c299-4dcb-8224-4455121ee9b0",
    "_uuid": "d629ff2d2480ee46fbb7e2d37f6b5fab8052498a",
    "execution": {
     "iopub.execute_input": "2023-05-30T13:33:08.134318Z",
     "iopub.status.busy": "2023-05-30T13:33:08.133674Z",
     "iopub.status.idle": "2023-05-30T13:33:08.141574Z",
     "shell.execute_reply": "2023-05-30T13:33:08.140398Z",
     "shell.execute_reply.started": "2023-05-30T13:33:08.134270Z"
    }
   },
   "outputs": [],
   "source": [
    "from keras.layers import Convolution2D\n",
    "from keras.layers import MaxPooling2D\n",
    "from keras.layers import Flatten\n",
    "from keras.layers import Dense\n",
    "from keras.models import Sequential\n",
    "from keras.layers import Dropout\n",
    "from keras_preprocessing.image import ImageDataGenerator"
   ]
  },
  {
   "attachments": {},
   "cell_type": "markdown",
   "metadata": {},
   "source": [
    "## Task 2: Dataset Creation"
   ]
  },
  {
   "cell_type": "code",
   "execution_count": 20,
   "metadata": {
    "execution": {
     "iopub.execute_input": "2023-05-30T13:33:08.143629Z",
     "iopub.status.busy": "2023-05-30T13:33:08.143172Z",
     "iopub.status.idle": "2023-05-30T13:33:27.500724Z",
     "shell.execute_reply": "2023-05-30T13:33:27.499695Z",
     "shell.execute_reply.started": "2023-05-30T13:33:08.143558Z"
    }
   },
   "outputs": [],
   "source": [
    "#created data set using console\n",
    "source=\"animal_wildlife\"\n",
    "target='./train_data/'\n",
    "shutil.copytree(source, target)\n",
    "os.mkdir('test_data')"
   ]
  },
  {
   "cell_type": "code",
   "execution_count": 21,
   "metadata": {
    "execution": {
     "iopub.execute_input": "2023-05-30T13:33:27.502214Z",
     "iopub.status.busy": "2023-05-30T13:33:27.501906Z",
     "iopub.status.idle": "2023-05-30T13:33:27.549600Z",
     "shell.execute_reply": "2023-05-30T13:33:27.548745Z",
     "shell.execute_reply.started": "2023-05-30T13:33:27.502184Z"
    }
   },
   "outputs": [],
   "source": [
    "# remove unwanted data and create same classed for test_data\n",
    "\n",
    "path=\"./train_data/\"\n",
    "for file in os.listdir(path):\n",
    "    for image in os.listdir(path+file+'/'):\n",
    "        if '.jpg' not in image:\n",
    "            os.remove(path+file+'/'+image)\n",
    "    os.mkdir('./test_data/'+file)\n"
   ]
  },
  {
   "cell_type": "code",
   "execution_count": 22,
   "metadata": {
    "execution": {
     "iopub.execute_input": "2023-05-30T13:33:27.553378Z",
     "iopub.status.busy": "2023-05-30T13:33:27.552757Z",
     "iopub.status.idle": "2023-05-30T13:33:27.671085Z",
     "shell.execute_reply": "2023-05-30T13:33:27.670039Z",
     "shell.execute_reply.started": "2023-05-30T13:33:27.553338Z"
    }
   },
   "outputs": [
    {
     "name": "stdout",
     "output_type": "stream",
     "text": [
      "buffalo 375 94\n",
      "elephant 375 94\n",
      "rhino 375 94\n",
      "zebra 376 94\n",
      "total train images are :  1125  and total train classes are :  4\n"
     ]
    }
   ],
   "source": [
    "# create test_data by taking 25% images from data\n",
    "\n",
    "total_train_images,total_test_images,total_train_classes,total_test_classes=0,0,0,0\n",
    "path=\"./train_data/\"\n",
    "for file in os.listdir(path):\n",
    "    total_train_classes+=1\n",
    "    total_images=len(os.listdir(path+file+\"/\"))\n",
    "    test_image_count=(25/100)*total_images #25% for test and 75% for train\n",
    "    for i in range(math.ceil(test_image_count)):\n",
    "        img=random.choice(os.listdir(path+file+'/'))\n",
    "        shutil.move(path+file+'/'+img,'./test_data/'+file+'/')\n",
    "        #print(img)\n",
    "    print(file,total_images,math.ceil(test_image_count))\n",
    "    total_train_images+=(total_images-math.ceil(test_image_count))\n",
    "    #print(file,math.ceil(test_image_count))\n",
    "print(\"total train images are : \",total_train_images,\" and total train classes are : \",total_train_classes)"
   ]
  },
  {
   "attachments": {},
   "cell_type": "markdown",
   "metadata": {},
   "source": [
    "## Task 3: Model Creation"
   ]
  },
  {
   "cell_type": "code",
   "execution_count": 5,
   "metadata": {
    "execution": {
     "iopub.execute_input": "2023-05-30T13:33:27.674325Z",
     "iopub.status.busy": "2023-05-30T13:33:27.673969Z",
     "iopub.status.idle": "2023-05-30T13:33:27.753388Z",
     "shell.execute_reply": "2023-05-30T13:33:27.752244Z",
     "shell.execute_reply.started": "2023-05-30T13:33:27.674292Z"
    }
   },
   "outputs": [],
   "source": [
    "model = Sequential()"
   ]
  },
  {
   "cell_type": "code",
   "execution_count": 6,
   "metadata": {
    "execution": {
     "iopub.execute_input": "2023-05-30T13:33:27.755029Z",
     "iopub.status.busy": "2023-05-30T13:33:27.754710Z",
     "iopub.status.idle": "2023-05-30T13:33:27.806269Z",
     "shell.execute_reply": "2023-05-30T13:33:27.805311Z",
     "shell.execute_reply.started": "2023-05-30T13:33:27.754997Z"
    }
   },
   "outputs": [],
   "source": [
    "#inputlayer : apply filters\n",
    "model.add(Convolution2D(filters=32, \n",
    "                        kernel_size=(3,3),\n",
    "                        strides=(1,1),\n",
    "                        padding='same',\n",
    "                        activation='relu',\n",
    "                   input_shape=(32, 32, 1)))"
   ]
  },
  {
   "cell_type": "code",
   "execution_count": 7,
   "metadata": {
    "execution": {
     "iopub.execute_input": "2023-05-30T13:33:27.808890Z",
     "iopub.status.busy": "2023-05-30T13:33:27.808235Z",
     "iopub.status.idle": "2023-05-30T13:33:27.817039Z",
     "shell.execute_reply": "2023-05-30T13:33:27.816006Z",
     "shell.execute_reply.started": "2023-05-30T13:33:27.808848Z"
    }
   },
   "outputs": [],
   "source": [
    "# pooling layer where we are doing maxpooling\n",
    "model.add(MaxPooling2D(pool_size=(2, 2)))"
   ]
  },
  {
   "cell_type": "code",
   "execution_count": 8,
   "metadata": {
    "execution": {
     "iopub.execute_input": "2023-05-30T13:33:27.819276Z",
     "iopub.status.busy": "2023-05-30T13:33:27.818815Z",
     "iopub.status.idle": "2023-05-30T13:33:27.837973Z",
     "shell.execute_reply": "2023-05-30T13:33:27.836974Z",
     "shell.execute_reply.started": "2023-05-30T13:33:27.819229Z"
    }
   },
   "outputs": [],
   "source": [
    "#adding one more convolution layer for better model\n",
    "model.add(Convolution2D(filters=32, \n",
    "                        kernel_size=(3,3),\n",
    "                        strides=(1,1),\n",
    "                        padding='same', \n",
    "                        activation='relu'\n",
    "                      ))"
   ]
  },
  {
   "cell_type": "code",
   "execution_count": 9,
   "metadata": {
    "execution": {
     "iopub.execute_input": "2023-05-30T13:33:27.840132Z",
     "iopub.status.busy": "2023-05-30T13:33:27.839671Z",
     "iopub.status.idle": "2023-05-30T13:33:27.850269Z",
     "shell.execute_reply": "2023-05-30T13:33:27.849055Z",
     "shell.execute_reply.started": "2023-05-30T13:33:27.840086Z"
    }
   },
   "outputs": [],
   "source": [
    "#adding one more Pooling layer for better model\n",
    "model.add(MaxPooling2D(pool_size=(2, 2)))"
   ]
  },
  {
   "cell_type": "code",
   "execution_count": 10,
   "metadata": {
    "execution": {
     "iopub.execute_input": "2023-05-30T13:33:27.852095Z",
     "iopub.status.busy": "2023-05-30T13:33:27.851740Z",
     "iopub.status.idle": "2023-05-30T13:33:27.897590Z",
     "shell.execute_reply": "2023-05-30T13:33:27.896709Z",
     "shell.execute_reply.started": "2023-05-30T13:33:27.852064Z"
    }
   },
   "outputs": [],
   "source": [
    "#dropout regularlization\n",
    "model.add(Dropout(0.5))"
   ]
  },
  {
   "cell_type": "code",
   "execution_count": 11,
   "metadata": {
    "execution": {
     "iopub.execute_input": "2023-05-30T13:33:27.899417Z",
     "iopub.status.busy": "2023-05-30T13:33:27.899105Z",
     "iopub.status.idle": "2023-05-30T13:33:27.909221Z",
     "shell.execute_reply": "2023-05-30T13:33:27.908284Z",
     "shell.execute_reply.started": "2023-05-30T13:33:27.899387Z"
    }
   },
   "outputs": [],
   "source": [
    "#layer in which we are converting 2d/3d image to 1d image i.e flattening\n",
    "model.add(Flatten())"
   ]
  },
  {
   "cell_type": "code",
   "execution_count": 12,
   "metadata": {
    "execution": {
     "iopub.execute_input": "2023-05-30T13:33:27.910941Z",
     "iopub.status.busy": "2023-05-30T13:33:27.910435Z",
     "iopub.status.idle": "2023-05-30T13:33:27.928386Z",
     "shell.execute_reply": "2023-05-30T13:33:27.927463Z",
     "shell.execute_reply.started": "2023-05-30T13:33:27.910906Z"
    }
   },
   "outputs": [],
   "source": [
    "# layer: appling relu to give positive output from here our hidden layerrs starts\n",
    "model.add(Dense(units=20, activation='relu'))"
   ]
  },
  {
   "cell_type": "code",
   "execution_count": 13,
   "metadata": {
    "execution": {
     "iopub.execute_input": "2023-05-30T13:33:27.930149Z",
     "iopub.status.busy": "2023-05-30T13:33:27.929820Z",
     "iopub.status.idle": "2023-05-30T13:33:27.947004Z",
     "shell.execute_reply": "2023-05-30T13:33:27.945974Z",
     "shell.execute_reply.started": "2023-05-30T13:33:27.930118Z"
    }
   },
   "outputs": [],
   "source": [
    "#dropout regularlization\n",
    "model.add(Dropout(0.5))"
   ]
  },
  {
   "cell_type": "code",
   "execution_count": 14,
   "metadata": {
    "execution": {
     "iopub.execute_input": "2023-05-30T13:33:27.949311Z",
     "iopub.status.busy": "2023-05-30T13:33:27.948843Z",
     "iopub.status.idle": "2023-05-30T13:33:27.964741Z",
     "shell.execute_reply": "2023-05-30T13:33:27.963637Z",
     "shell.execute_reply.started": "2023-05-30T13:33:27.949264Z"
    }
   },
   "outputs": [],
   "source": [
    "# output layer : Since we have to do multi-class classification so we'll apply softmax activation function \n",
    "# we have 4 classes of animals so output layer would have that many neurons.\n",
    "model.add(Dense(units=4, activation='softmax'))"
   ]
  },
  {
   "cell_type": "code",
   "execution_count": 15,
   "metadata": {
    "execution": {
     "iopub.execute_input": "2023-05-30T13:33:27.966924Z",
     "iopub.status.busy": "2023-05-30T13:33:27.966533Z",
     "iopub.status.idle": "2023-05-30T13:33:27.984737Z",
     "shell.execute_reply": "2023-05-30T13:33:27.983720Z",
     "shell.execute_reply.started": "2023-05-30T13:33:27.966889Z"
    }
   },
   "outputs": [],
   "source": [
    "model.compile(optimizer='adam', loss='categorical_crossentropy', metrics=['accuracy'])"
   ]
  },
  {
   "cell_type": "code",
   "execution_count": 16,
   "metadata": {
    "execution": {
     "iopub.execute_input": "2023-05-30T13:33:27.986455Z",
     "iopub.status.busy": "2023-05-30T13:33:27.986124Z",
     "iopub.status.idle": "2023-05-30T13:33:27.997895Z",
     "shell.execute_reply": "2023-05-30T13:33:27.996879Z",
     "shell.execute_reply.started": "2023-05-30T13:33:27.986424Z"
    }
   },
   "outputs": [
    {
     "name": "stdout",
     "output_type": "stream",
     "text": [
      "Model: \"sequential\"\n",
      "_________________________________________________________________\n",
      " Layer (type)                Output Shape              Param #   \n",
      "=================================================================\n",
      " conv2d (Conv2D)             (None, 32, 32, 32)        320       \n",
      "                                                                 \n",
      " max_pooling2d (MaxPooling2D  (None, 16, 16, 32)       0         \n",
      " )                                                               \n",
      "                                                                 \n",
      " conv2d_1 (Conv2D)           (None, 16, 16, 32)        9248      \n",
      "                                                                 \n",
      " max_pooling2d_1 (MaxPooling  (None, 8, 8, 32)         0         \n",
      " 2D)                                                             \n",
      "                                                                 \n",
      " dropout (Dropout)           (None, 8, 8, 32)          0         \n",
      "                                                                 \n",
      " flatten (Flatten)           (None, 2048)              0         \n",
      "                                                                 \n",
      " dense (Dense)               (None, 20)                40980     \n",
      "                                                                 \n",
      " dropout_1 (Dropout)         (None, 20)                0         \n",
      "                                                                 \n",
      " dense_1 (Dense)             (None, 4)                 84        \n",
      "                                                                 \n",
      "=================================================================\n",
      "Total params: 50,632\n",
      "Trainable params: 50,632\n",
      "Non-trainable params: 0\n",
      "_________________________________________________________________\n"
     ]
    }
   ],
   "source": [
    "model.summary()"
   ]
  },
  {
   "attachments": {},
   "cell_type": "markdown",
   "metadata": {},
   "source": [
    "## Task 4: Image Augmentation"
   ]
  },
  {
   "cell_type": "code",
   "execution_count": 23,
   "metadata": {
    "execution": {
     "iopub.execute_input": "2023-05-30T13:33:27.999642Z",
     "iopub.status.busy": "2023-05-30T13:33:27.999313Z",
     "iopub.status.idle": "2023-05-30T13:33:28.221419Z",
     "shell.execute_reply": "2023-05-30T13:33:28.220294Z",
     "shell.execute_reply.started": "2023-05-30T13:33:27.999610Z"
    }
   },
   "outputs": [
    {
     "name": "stdout",
     "output_type": "stream",
     "text": [
      "Found 1125 images belonging to 4 classes.\n",
      "Found 376 images belonging to 4 classes.\n"
     ]
    }
   ],
   "source": [
    "#url : https://keras.io/api/preprocessing/image/ \n",
    "train_datagen = ImageDataGenerator(\n",
    "        rescale=1./255,\n",
    "        shear_range=0.2,\n",
    "        zoom_range=0.2,\n",
    "        horizontal_flip=True)\n",
    "test_datagen = ImageDataGenerator(rescale=1./255)\n",
    "training_set = train_datagen.flow_from_directory(\n",
    "        './train_data/',\n",
    "        target_size=(32,32),\n",
    "        color_mode=\"grayscale\",\n",
    "        batch_size=64,\n",
    "        class_mode='categorical')\n",
    "test_set = test_datagen.flow_from_directory(\n",
    "        './test_data/',\n",
    "        target_size=(32,32),\n",
    "        color_mode=\"grayscale\",\n",
    "        batch_size=64,\n",
    "        class_mode='categorical')"
   ]
  },
  {
   "cell_type": "code",
   "execution_count": 24,
   "metadata": {
    "execution": {
     "iopub.execute_input": "2023-05-30T13:33:28.223543Z",
     "iopub.status.busy": "2023-05-30T13:33:28.223200Z",
     "iopub.status.idle": "2023-05-30T13:33:28.232803Z",
     "shell.execute_reply": "2023-05-30T13:33:28.231692Z",
     "shell.execute_reply.started": "2023-05-30T13:33:28.223508Z"
    }
   },
   "outputs": [
    {
     "data": {
      "text/plain": [
       "{'buffalo': 0, 'elephant': 1, 'rhino': 2, 'zebra': 3}"
      ]
     },
     "execution_count": 24,
     "metadata": {},
     "output_type": "execute_result"
    }
   ],
   "source": [
    "training_set.class_indices # to see classes of our dataset"
   ]
  },
  {
   "attachments": {},
   "cell_type": "markdown",
   "metadata": {},
   "source": [
    "## Task 5: Model Training"
   ]
  },
  {
   "cell_type": "code",
   "execution_count": 25,
   "metadata": {
    "execution": {
     "iopub.execute_input": "2023-05-30T13:56:44.814911Z",
     "iopub.status.busy": "2023-05-30T13:56:44.814472Z",
     "iopub.status.idle": "2023-05-30T14:42:06.690546Z",
     "shell.execute_reply": "2023-05-30T14:42:06.689348Z",
     "shell.execute_reply.started": "2023-05-30T13:56:44.814873Z"
    }
   },
   "outputs": [
    {
     "name": "stdout",
     "output_type": "stream",
     "text": [
      "Epoch 1/100\n",
      "17/17 [==============================] - 14s 774ms/step - loss: 1.3855 - accuracy: 0.2684 - val_loss: 1.3714 - val_accuracy: 0.4282\n",
      "Epoch 2/100\n",
      "17/17 [==============================] - 16s 883ms/step - loss: 1.3702 - accuracy: 0.3004 - val_loss: 1.3360 - val_accuracy: 0.4282\n",
      "Epoch 3/100\n",
      "17/17 [==============================] - 16s 888ms/step - loss: 1.3440 - accuracy: 0.3227 - val_loss: 1.2713 - val_accuracy: 0.4335\n",
      "Epoch 4/100\n",
      "17/17 [==============================] - 15s 894ms/step - loss: 1.2852 - accuracy: 0.3671 - val_loss: 1.2346 - val_accuracy: 0.3936\n",
      "Epoch 5/100\n",
      "17/17 [==============================] - 16s 939ms/step - loss: 1.2310 - accuracy: 0.3964 - val_loss: 1.1501 - val_accuracy: 0.4947\n",
      "Epoch 6/100\n",
      "17/17 [==============================] - 18s 1s/step - loss: 1.1881 - accuracy: 0.4516 - val_loss: 1.0950 - val_accuracy: 0.5000\n",
      "Epoch 7/100\n",
      "17/17 [==============================] - 17s 992ms/step - loss: 1.1624 - accuracy: 0.4516 - val_loss: 1.0679 - val_accuracy: 0.5745\n",
      "Epoch 8/100\n",
      "17/17 [==============================] - 17s 1s/step - loss: 1.1247 - accuracy: 0.4942 - val_loss: 1.0241 - val_accuracy: 0.5771\n",
      "Epoch 9/100\n",
      "17/17 [==============================] - 17s 971ms/step - loss: 1.1010 - accuracy: 0.5084 - val_loss: 1.1270 - val_accuracy: 0.5346\n",
      "Epoch 10/100\n",
      "17/17 [==============================] - 17s 1s/step - loss: 1.1042 - accuracy: 0.5218 - val_loss: 1.0752 - val_accuracy: 0.5532\n",
      "Epoch 11/100\n",
      "17/17 [==============================] - 17s 991ms/step - loss: 1.0974 - accuracy: 0.5307 - val_loss: 0.9747 - val_accuracy: 0.6117\n",
      "Epoch 12/100\n",
      "17/17 [==============================] - 17s 994ms/step - loss: 1.0455 - accuracy: 0.5636 - val_loss: 1.0681 - val_accuracy: 0.5532\n",
      "Epoch 13/100\n",
      "17/17 [==============================] - 17s 962ms/step - loss: 1.0562 - accuracy: 0.5396 - val_loss: 1.0613 - val_accuracy: 0.5532\n",
      "Epoch 14/100\n",
      "17/17 [==============================] - 16s 941ms/step - loss: 1.0360 - accuracy: 0.5582 - val_loss: 0.9744 - val_accuracy: 0.5984\n",
      "Epoch 15/100\n",
      "17/17 [==============================] - 16s 930ms/step - loss: 1.0218 - accuracy: 0.5716 - val_loss: 1.0015 - val_accuracy: 0.6011\n",
      "Epoch 16/100\n",
      "17/17 [==============================] - 19s 1s/step - loss: 1.0276 - accuracy: 0.5644 - val_loss: 1.0207 - val_accuracy: 0.5718\n",
      "Epoch 17/100\n",
      "17/17 [==============================] - 18s 1s/step - loss: 1.0056 - accuracy: 0.5698 - val_loss: 1.0308 - val_accuracy: 0.6037\n",
      "Epoch 18/100\n",
      "17/17 [==============================] - 18s 1s/step - loss: 0.9666 - accuracy: 0.6107 - val_loss: 1.0082 - val_accuracy: 0.6064\n",
      "Epoch 19/100\n",
      "17/17 [==============================] - 17s 953ms/step - loss: 0.9733 - accuracy: 0.5858 - val_loss: 1.0171 - val_accuracy: 0.6011\n",
      "Epoch 20/100\n",
      "17/17 [==============================] - 17s 1s/step - loss: 0.9760 - accuracy: 0.6000 - val_loss: 0.9994 - val_accuracy: 0.6064\n",
      "Epoch 21/100\n",
      "17/17 [==============================] - 17s 979ms/step - loss: 0.9723 - accuracy: 0.5929 - val_loss: 0.9697 - val_accuracy: 0.6197\n",
      "Epoch 22/100\n",
      "17/17 [==============================] - 19s 1s/step - loss: 0.9493 - accuracy: 0.6080 - val_loss: 1.0841 - val_accuracy: 0.5559\n",
      "Epoch 23/100\n",
      "17/17 [==============================] - 18s 1s/step - loss: 0.9775 - accuracy: 0.5787 - val_loss: 1.0948 - val_accuracy: 0.5532\n",
      "Epoch 24/100\n",
      "17/17 [==============================] - 17s 958ms/step - loss: 0.9436 - accuracy: 0.6071 - val_loss: 0.9794 - val_accuracy: 0.6356\n",
      "Epoch 25/100\n",
      "17/17 [==============================] - 17s 993ms/step - loss: 0.9659 - accuracy: 0.5858 - val_loss: 0.8694 - val_accuracy: 0.6489\n",
      "Epoch 26/100\n",
      "17/17 [==============================] - 19s 1s/step - loss: 0.9577 - accuracy: 0.5804 - val_loss: 0.8806 - val_accuracy: 0.6569\n",
      "Epoch 27/100\n",
      "17/17 [==============================] - 17s 1s/step - loss: 0.9324 - accuracy: 0.6018 - val_loss: 0.9115 - val_accuracy: 0.6463\n",
      "Epoch 28/100\n",
      "17/17 [==============================] - 15s 905ms/step - loss: 0.9336 - accuracy: 0.6142 - val_loss: 0.8567 - val_accuracy: 0.6569\n",
      "Epoch 29/100\n",
      "17/17 [==============================] - 16s 900ms/step - loss: 0.9386 - accuracy: 0.5956 - val_loss: 0.8809 - val_accuracy: 0.6436\n",
      "Epoch 30/100\n",
      "17/17 [==============================] - 16s 882ms/step - loss: 0.9252 - accuracy: 0.6124 - val_loss: 0.9829 - val_accuracy: 0.6356\n",
      "Epoch 31/100\n",
      "17/17 [==============================] - 16s 903ms/step - loss: 0.9058 - accuracy: 0.6071 - val_loss: 0.9970 - val_accuracy: 0.6144\n",
      "Epoch 32/100\n",
      "17/17 [==============================] - 16s 892ms/step - loss: 0.9112 - accuracy: 0.6231 - val_loss: 1.0465 - val_accuracy: 0.5957\n",
      "Epoch 33/100\n",
      "17/17 [==============================] - 16s 950ms/step - loss: 0.8978 - accuracy: 0.6036 - val_loss: 1.0100 - val_accuracy: 0.6197\n",
      "Epoch 34/100\n",
      "17/17 [==============================] - 16s 944ms/step - loss: 0.8782 - accuracy: 0.6284 - val_loss: 0.9638 - val_accuracy: 0.6277\n",
      "Epoch 35/100\n",
      "17/17 [==============================] - 15s 890ms/step - loss: 0.9067 - accuracy: 0.6187 - val_loss: 0.9529 - val_accuracy: 0.6223\n",
      "Epoch 36/100\n",
      "17/17 [==============================] - 15s 900ms/step - loss: 0.9143 - accuracy: 0.6249 - val_loss: 0.9438 - val_accuracy: 0.6303\n",
      "Epoch 37/100\n",
      "17/17 [==============================] - 17s 975ms/step - loss: 0.9002 - accuracy: 0.6107 - val_loss: 0.8758 - val_accuracy: 0.6516\n",
      "Epoch 38/100\n",
      "17/17 [==============================] - 16s 902ms/step - loss: 0.8852 - accuracy: 0.6249 - val_loss: 0.8674 - val_accuracy: 0.6516\n",
      "Epoch 39/100\n",
      "17/17 [==============================] - 16s 893ms/step - loss: 0.8769 - accuracy: 0.6258 - val_loss: 0.9025 - val_accuracy: 0.6436\n",
      "Epoch 40/100\n",
      "17/17 [==============================] - 16s 886ms/step - loss: 0.8639 - accuracy: 0.6347 - val_loss: 1.0199 - val_accuracy: 0.5931\n",
      "Epoch 41/100\n",
      "17/17 [==============================] - 16s 887ms/step - loss: 0.8853 - accuracy: 0.6267 - val_loss: 0.9318 - val_accuracy: 0.6144\n",
      "Epoch 42/100\n",
      "17/17 [==============================] - 16s 911ms/step - loss: 0.8691 - accuracy: 0.6240 - val_loss: 0.9215 - val_accuracy: 0.6330\n",
      "Epoch 43/100\n",
      "17/17 [==============================] - 16s 917ms/step - loss: 0.8815 - accuracy: 0.6249 - val_loss: 0.8827 - val_accuracy: 0.6516\n",
      "Epoch 44/100\n",
      "17/17 [==============================] - 16s 940ms/step - loss: 0.8841 - accuracy: 0.6231 - val_loss: 0.8727 - val_accuracy: 0.6463\n",
      "Epoch 45/100\n",
      "17/17 [==============================] - 16s 872ms/step - loss: 0.8295 - accuracy: 0.6596 - val_loss: 0.8661 - val_accuracy: 0.6489\n",
      "Epoch 46/100\n",
      "17/17 [==============================] - 16s 882ms/step - loss: 0.8871 - accuracy: 0.6267 - val_loss: 0.9933 - val_accuracy: 0.6037\n",
      "Epoch 47/100\n",
      "17/17 [==============================] - 16s 898ms/step - loss: 0.8682 - accuracy: 0.6338 - val_loss: 0.8313 - val_accuracy: 0.6755\n",
      "Epoch 48/100\n",
      "17/17 [==============================] - 16s 911ms/step - loss: 0.8748 - accuracy: 0.6231 - val_loss: 0.9167 - val_accuracy: 0.6277\n",
      "Epoch 49/100\n",
      "17/17 [==============================] - 16s 961ms/step - loss: 0.8438 - accuracy: 0.6471 - val_loss: 0.9516 - val_accuracy: 0.6223\n",
      "Epoch 50/100\n",
      "17/17 [==============================] - 16s 901ms/step - loss: 0.8771 - accuracy: 0.6098 - val_loss: 0.8875 - val_accuracy: 0.6436\n",
      "Epoch 51/100\n",
      "17/17 [==============================] - 16s 911ms/step - loss: 0.8603 - accuracy: 0.6347 - val_loss: 0.9475 - val_accuracy: 0.6356\n",
      "Epoch 52/100\n",
      "17/17 [==============================] - 16s 940ms/step - loss: 0.8401 - accuracy: 0.6444 - val_loss: 0.8537 - val_accuracy: 0.6543\n",
      "Epoch 53/100\n",
      "17/17 [==============================] - 17s 1s/step - loss: 0.8530 - accuracy: 0.6329 - val_loss: 0.8758 - val_accuracy: 0.6436\n",
      "Epoch 54/100\n",
      "17/17 [==============================] - 17s 945ms/step - loss: 0.8311 - accuracy: 0.6409 - val_loss: 0.9496 - val_accuracy: 0.6410\n",
      "Epoch 55/100\n",
      "17/17 [==============================] - 16s 896ms/step - loss: 0.8331 - accuracy: 0.6516 - val_loss: 0.9725 - val_accuracy: 0.6117\n",
      "Epoch 56/100\n",
      "17/17 [==============================] - 17s 949ms/step - loss: 0.8352 - accuracy: 0.6507 - val_loss: 0.9906 - val_accuracy: 0.6011\n",
      "Epoch 57/100\n",
      "17/17 [==============================] - 16s 913ms/step - loss: 0.8393 - accuracy: 0.6276 - val_loss: 0.8829 - val_accuracy: 0.6383\n"
     ]
    },
    {
     "name": "stdout",
     "output_type": "stream",
     "text": [
      "Epoch 58/100\n",
      "17/17 [==============================] - 15s 893ms/step - loss: 0.8385 - accuracy: 0.6444 - val_loss: 0.8733 - val_accuracy: 0.6463\n",
      "Epoch 59/100\n",
      "17/17 [==============================] - 16s 913ms/step - loss: 0.8233 - accuracy: 0.6347 - val_loss: 0.8404 - val_accuracy: 0.6622\n",
      "Epoch 60/100\n",
      "17/17 [==============================] - 15s 879ms/step - loss: 0.8438 - accuracy: 0.6258 - val_loss: 0.8405 - val_accuracy: 0.6676\n",
      "Epoch 61/100\n",
      "17/17 [==============================] - 15s 902ms/step - loss: 0.8397 - accuracy: 0.6382 - val_loss: 0.8939 - val_accuracy: 0.6250\n",
      "Epoch 62/100\n",
      "17/17 [==============================] - 16s 925ms/step - loss: 0.8419 - accuracy: 0.6293 - val_loss: 0.9525 - val_accuracy: 0.5904\n",
      "Epoch 63/100\n",
      "17/17 [==============================] - 17s 952ms/step - loss: 0.8559 - accuracy: 0.6302 - val_loss: 0.9594 - val_accuracy: 0.6144\n",
      "Epoch 64/100\n",
      "17/17 [==============================] - 15s 877ms/step - loss: 0.8209 - accuracy: 0.6489 - val_loss: 0.9880 - val_accuracy: 0.5824\n",
      "Epoch 65/100\n",
      "17/17 [==============================] - 15s 895ms/step - loss: 0.8411 - accuracy: 0.6391 - val_loss: 1.0004 - val_accuracy: 0.5904\n",
      "Epoch 66/100\n",
      "17/17 [==============================] - 15s 891ms/step - loss: 0.8355 - accuracy: 0.6311 - val_loss: 0.9693 - val_accuracy: 0.6250\n",
      "Epoch 67/100\n",
      "17/17 [==============================] - 16s 901ms/step - loss: 0.8223 - accuracy: 0.6436 - val_loss: 1.0350 - val_accuracy: 0.5585\n",
      "Epoch 68/100\n",
      "17/17 [==============================] - 15s 894ms/step - loss: 0.8336 - accuracy: 0.6382 - val_loss: 0.8677 - val_accuracy: 0.6543\n",
      "Epoch 69/100\n",
      "17/17 [==============================] - 15s 892ms/step - loss: 0.8150 - accuracy: 0.6418 - val_loss: 0.8364 - val_accuracy: 0.6702\n",
      "Epoch 70/100\n",
      "17/17 [==============================] - 15s 880ms/step - loss: 0.7946 - accuracy: 0.6373 - val_loss: 0.8728 - val_accuracy: 0.6622\n",
      "Epoch 71/100\n",
      "17/17 [==============================] - 16s 914ms/step - loss: 0.8238 - accuracy: 0.6524 - val_loss: 0.9198 - val_accuracy: 0.6383\n",
      "Epoch 72/100\n",
      "17/17 [==============================] - 16s 906ms/step - loss: 0.8173 - accuracy: 0.6658 - val_loss: 0.8689 - val_accuracy: 0.6489\n",
      "Epoch 73/100\n",
      "17/17 [==============================] - 15s 896ms/step - loss: 0.8413 - accuracy: 0.6213 - val_loss: 0.9749 - val_accuracy: 0.6197\n",
      "Epoch 74/100\n",
      "17/17 [==============================] - 15s 887ms/step - loss: 0.8146 - accuracy: 0.6462 - val_loss: 1.0188 - val_accuracy: 0.5931\n",
      "Epoch 75/100\n",
      "17/17 [==============================] - 16s 904ms/step - loss: 0.7909 - accuracy: 0.6453 - val_loss: 0.9176 - val_accuracy: 0.6223\n",
      "Epoch 76/100\n",
      "17/17 [==============================] - 16s 932ms/step - loss: 0.8205 - accuracy: 0.6524 - val_loss: 0.9520 - val_accuracy: 0.6117\n",
      "Epoch 77/100\n",
      "17/17 [==============================] - 15s 911ms/step - loss: 0.8095 - accuracy: 0.6924 - val_loss: 0.9088 - val_accuracy: 0.6330\n",
      "Epoch 78/100\n",
      "17/17 [==============================] - 15s 897ms/step - loss: 0.8164 - accuracy: 0.6640 - val_loss: 0.9342 - val_accuracy: 0.6197\n",
      "Epoch 79/100\n",
      "17/17 [==============================] - 16s 904ms/step - loss: 0.8120 - accuracy: 0.6338 - val_loss: 0.8503 - val_accuracy: 0.6463\n",
      "Epoch 80/100\n",
      "17/17 [==============================] - 16s 875ms/step - loss: 0.7969 - accuracy: 0.6409 - val_loss: 0.9666 - val_accuracy: 0.5984\n",
      "Epoch 81/100\n",
      "17/17 [==============================] - 16s 914ms/step - loss: 0.8223 - accuracy: 0.6587 - val_loss: 0.9264 - val_accuracy: 0.6436\n",
      "Epoch 82/100\n",
      "17/17 [==============================] - 16s 909ms/step - loss: 0.8008 - accuracy: 0.6507 - val_loss: 1.0059 - val_accuracy: 0.5824\n",
      "Epoch 83/100\n",
      "17/17 [==============================] - 15s 890ms/step - loss: 0.7544 - accuracy: 0.6729 - val_loss: 0.8613 - val_accuracy: 0.6516\n",
      "Epoch 84/100\n",
      "17/17 [==============================] - 15s 904ms/step - loss: 0.8008 - accuracy: 0.6604 - val_loss: 0.9242 - val_accuracy: 0.6330\n",
      "Epoch 85/100\n",
      "17/17 [==============================] - 15s 894ms/step - loss: 0.7783 - accuracy: 0.6747 - val_loss: 1.0715 - val_accuracy: 0.5771\n",
      "Epoch 86/100\n",
      "17/17 [==============================] - 16s 896ms/step - loss: 0.8213 - accuracy: 0.6311 - val_loss: 0.8739 - val_accuracy: 0.6383\n",
      "Epoch 87/100\n",
      "17/17 [==============================] - 15s 889ms/step - loss: 0.7782 - accuracy: 0.6853 - val_loss: 0.8364 - val_accuracy: 0.6543\n",
      "Epoch 88/100\n",
      "17/17 [==============================] - 15s 887ms/step - loss: 0.7739 - accuracy: 0.6676 - val_loss: 0.9465 - val_accuracy: 0.5904\n",
      "Epoch 89/100\n",
      "17/17 [==============================] - 15s 894ms/step - loss: 0.7793 - accuracy: 0.6587 - val_loss: 0.9748 - val_accuracy: 0.6064\n",
      "Epoch 90/100\n",
      "17/17 [==============================] - 16s 916ms/step - loss: 0.7718 - accuracy: 0.6596 - val_loss: 0.9251 - val_accuracy: 0.6277\n",
      "Epoch 91/100\n",
      "17/17 [==============================] - 16s 893ms/step - loss: 0.7987 - accuracy: 0.6364 - val_loss: 1.0358 - val_accuracy: 0.5771\n",
      "Epoch 92/100\n",
      "17/17 [==============================] - 15s 890ms/step - loss: 0.7629 - accuracy: 0.6720 - val_loss: 0.8823 - val_accuracy: 0.6277\n",
      "Epoch 93/100\n",
      "17/17 [==============================] - 15s 903ms/step - loss: 0.7710 - accuracy: 0.6631 - val_loss: 0.8443 - val_accuracy: 0.6543\n",
      "Epoch 94/100\n",
      "17/17 [==============================] - 15s 878ms/step - loss: 0.7725 - accuracy: 0.6667 - val_loss: 0.9640 - val_accuracy: 0.6117\n",
      "Epoch 95/100\n",
      "17/17 [==============================] - 16s 931ms/step - loss: 0.7746 - accuracy: 0.6524 - val_loss: 1.0644 - val_accuracy: 0.5957\n",
      "Epoch 96/100\n",
      "17/17 [==============================] - 15s 892ms/step - loss: 0.8096 - accuracy: 0.6516 - val_loss: 0.9184 - val_accuracy: 0.6250\n",
      "Epoch 97/100\n",
      "17/17 [==============================] - 15s 896ms/step - loss: 0.7864 - accuracy: 0.6418 - val_loss: 0.8418 - val_accuracy: 0.6516\n",
      "Epoch 98/100\n",
      "17/17 [==============================] - 16s 953ms/step - loss: 0.7956 - accuracy: 0.6462 - val_loss: 0.7775 - val_accuracy: 0.6702\n",
      "Epoch 99/100\n",
      "17/17 [==============================] - 16s 896ms/step - loss: 0.7958 - accuracy: 0.6542 - val_loss: 0.8703 - val_accuracy: 0.6330\n",
      "Epoch 100/100\n",
      "17/17 [==============================] - 16s 925ms/step - loss: 0.7554 - accuracy: 0.6871 - val_loss: 0.9228 - val_accuracy: 0.6383\n"
     ]
    }
   ],
   "source": [
    "history = model.fit(\n",
    "        training_set,\n",
    "        steps_per_epoch=(1125/64),\n",
    "        epochs=100,\n",
    "        validation_data=test_set,\n",
    "        validation_steps=(376/64))"
   ]
  },
  {
   "cell_type": "code",
   "execution_count": null,
   "metadata": {},
   "outputs": [],
   "source": []
  },
  {
   "attachments": {},
   "cell_type": "markdown",
   "metadata": {},
   "source": [
    "## Task 6: Accuracy"
   ]
  },
  {
   "cell_type": "code",
   "execution_count": 26,
   "metadata": {
    "execution": {
     "iopub.execute_input": "2023-05-30T15:35:39.058363Z",
     "iopub.status.busy": "2023-05-30T15:35:39.057879Z",
     "iopub.status.idle": "2023-05-30T15:35:39.774748Z",
     "shell.execute_reply": "2023-05-30T15:35:39.773801Z",
     "shell.execute_reply.started": "2023-05-30T15:35:39.058326Z"
    }
   },
   "outputs": [
    {
     "data": {
      "image/png": "[encoded data removed]",
      "text/plain": [
       "<Figure size 432x288 with 1 Axes>"
      ]
     },
     "metadata": {
      "needs_background": "light"
     },
     "output_type": "display_data"
    },
    {
     "data": {
      "image/png": "[encoded data removed]",
      "text/plain": [
       "<Figure size 432x288 with 1 Axes>"
      ]
     },
     "metadata": {
      "needs_background": "light"
     },
     "output_type": "display_data"
    }
   ],
   "source": [
    "#Graphing our training and validation\n",
    "accuracy = history.history['accuracy']\n",
    "val_accuracy = history.history['val_accuracy']\n",
    "loss = history.history['loss']\n",
    "val_loss = history.history['val_loss']\n",
    "epochs = range(len(accuracy))\n",
    "plt.plot(epochs, accuracy, 'r', label='Training acc')\n",
    "plt.plot(epochs, val_accuracy, 'b', label='Validation acc')\n",
    "plt.title('Training and validation accuracy')\n",
    "plt.ylabel('accuracy') \n",
    "plt.xlabel('epoch')\n",
    "plt.legend()\n",
    "plt.figure()\n",
    "plt.plot(epochs, loss, 'r', label='Training loss')\n",
    "plt.plot(epochs, val_loss, 'b', label='Validation loss')\n",
    "plt.title('Training and validation loss')\n",
    "plt.ylabel('loss') \n",
    "plt.xlabel('epoch')\n",
    "plt.legend()\n",
    "plt.show()"
   ]
  },
  {
   "cell_type": "code",
   "execution_count": null,
   "metadata": {},
   "outputs": [],
   "source": []
  },
  {
   "cell_type": "code",
   "execution_count": 27,
   "metadata": {
    "execution": {
     "iopub.status.busy": "2023-05-30T13:55:43.452572Z",
     "iopub.status.idle": "2023-05-30T13:55:43.453082Z"
    }
   },
   "outputs": [],
   "source": [
    "#model.save(\"simple_animal_classification_model.h5\")#save model"
   ]
  },
  {
   "cell_type": "code",
   "execution_count": 28,
   "metadata": {
    "execution": {
     "iopub.status.busy": "2023-05-30T13:55:43.454269Z",
     "iopub.status.idle": "2023-05-30T13:55:43.454934Z"
    }
   },
   "outputs": [],
   "source": [
    "#from keras.models import load_model\n",
    "#model=load_model(\"simple_animal_classification_model.h5\") "
   ]
  },
  {
   "attachments": {},
   "cell_type": "markdown",
   "metadata": {},
   "source": [
    "## Task 7: Testing"
   ]
  },
  {
   "cell_type": "code",
   "execution_count": 36,
   "metadata": {
    "execution": {
     "iopub.execute_input": "2023-05-30T15:44:46.518416Z",
     "iopub.status.busy": "2023-05-30T15:44:46.518009Z",
     "iopub.status.idle": "2023-05-30T15:44:46.538734Z",
     "shell.execute_reply": "2023-05-30T15:44:46.537803Z",
     "shell.execute_reply.started": "2023-05-30T15:44:46.518383Z"
    }
   },
   "outputs": [
    {
     "data": {
      "image/png": "[encoded data removed]",
      "text/plain": [
       "<PIL.Image.Image image mode=L size=32x32>"
      ]
     },
     "execution_count": 36,
     "metadata": {},
     "output_type": "execute_result"
    }
   ],
   "source": [
    "from tensorflow.keras.preprocessing import image\n",
    "test_image = image.load_img(\"animal_wildlife\\\\elephant\\\\376.jpg\",target_size=(32,32),color_mode='grayscale')\n",
    "test_image \n"
   ]
  },
  {
   "cell_type": "code",
   "execution_count": 37,
   "metadata": {
    "execution": {
     "iopub.execute_input": "2023-05-30T15:44:52.577444Z",
     "iopub.status.busy": "2023-05-30T15:44:52.577052Z",
     "iopub.status.idle": "2023-05-30T15:44:52.583043Z",
     "shell.execute_reply": "2023-05-30T15:44:52.581632Z",
     "shell.execute_reply.started": "2023-05-30T15:44:52.577414Z"
    }
   },
   "outputs": [],
   "source": [
    "test_image = image.img_to_array(test_image)\n",
    "test_image = np.expand_dims(test_image,axis=0)"
   ]
  },
  {
   "cell_type": "code",
   "execution_count": 38,
   "metadata": {
    "execution": {
     "iopub.execute_input": "2023-05-30T15:44:58.088497Z",
     "iopub.status.busy": "2023-05-30T15:44:58.088095Z",
     "iopub.status.idle": "2023-05-30T15:44:58.140097Z",
     "shell.execute_reply": "2023-05-30T15:44:58.138962Z",
     "shell.execute_reply.started": "2023-05-30T15:44:58.088464Z"
    }
   },
   "outputs": [
    {
     "name": "stdout",
     "output_type": "stream",
     "text": [
      "1/1 [==============================] - 0s 115ms/step\n",
      "buffalo\n",
      "elephant\n",
      "rhino\n",
      "zebra\n"
     ]
    }
   ],
   "source": [
    "result = model.predict(test_image)\n",
    "\n",
    "my_dict=training_set.class_indices\n",
    "def get_key(val): \n",
    "    for key, value in my_dict.items(): \n",
    "         if val == value: \n",
    "             return key \n",
    "  \n",
    "    return \"key doesn't exist\"\n",
    "\n",
    "pred=list(result[0])\n",
    "for i in range(len(pred)):\n",
    "    if pred[i]!=0:\n",
    "        print(get_key(i))"
   ]
  }
 ],
 "metadata": {
  "kernelspec": {
   "display_name": "Python 3 (ipykernel)",
   "language": "python",
   "name": "python3"
  },
  "language_info": {
   "codemirror_mode": {
    "name": "ipython",
    "version": 3
   },
   "file_extension": ".py",
   "mimetype": "text/x-python",
   "name": "python",
   "nbconvert_exporter": "python",
   "pygments_lexer": "ipython3",
   "version": "3.9.5"
  }
 },
 "nbformat": 4,
 "nbformat_minor": 4
}
